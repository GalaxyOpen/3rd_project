{
 "cells": [
  {
   "cell_type": "code",
   "execution_count": 1,
   "metadata": {},
   "outputs": [
    {
     "data": {
      "text/plain": [
       "'e:\\\\py_data\\\\last project\\\\codes'"
      ]
     },
     "execution_count": 1,
     "metadata": {},
     "output_type": "execute_result"
    }
   ],
   "source": [
    "import os\n",
    "\n",
    "os.getcwd()"
   ]
  },
  {
   "cell_type": "code",
   "execution_count": 2,
   "metadata": {},
   "outputs": [
    {
     "name": "stdout",
     "output_type": "stream",
     "text": [
      "Directory: Image_data\n",
      "Contents:\n",
      "  test\n",
      "  train\n",
      "  val\n",
      "Directory: label_data\n",
      "Contents:\n",
      "  test_label\n",
      "  train_label\n",
      "  val_label\n"
     ]
    }
   ],
   "source": [
    "import os\n",
    "\n",
    "# Define the path to the directory\n",
    "directory_path = \"../datas/image_data/wassup_face/\"\n",
    "\n",
    "# Check if the path is a directory\n",
    "if os.path.isdir(directory_path):\n",
    "    # List all files and directories in the current directory\n",
    "    items = os.listdir(directory_path)\n",
    "    for item in items:\n",
    "        item_path = os.path.join(directory_path, item)\n",
    "        if os.path.isdir(item_path):\n",
    "            print(f\"Directory: {item}\")\n",
    "            # List contents of the subdirectory\n",
    "            sub_items = os.listdir(item_path)\n",
    "            print(\"Contents:\")\n",
    "            for sub_item in sub_items:\n",
    "                print(f\"  {sub_item}\")\n",
    "        else:\n",
    "            print(f\"File: {item}\")\n",
    "else:\n",
    "    print(f\"{directory_path} is not a directory.\")\n"
   ]
  },
  {
   "cell_type": "code",
   "execution_count": 40,
   "metadata": {},
   "outputs": [],
   "source": [
    "import json\n",
    "\n",
    "with open(\"../datas/image_data/wassup_face/label_data/train_label/train_anger.json\", encoding=\"cp949\") as f:\n",
    "    data1 = json.load(f)\n",
    "\n",
    "with open(\"../datas/image_data/wassup_face/label_data/train_label/train_happy.json\", encoding=\"cp949\") as f:\n",
    "    data2 = json.load(f)\n",
    "\n",
    "with open(\"../datas/image_data/wassup_face/label_data/train_label/train_panic.json\", encoding=\"cp949\") as f:\n",
    "    data3 = json.load(f)\n",
    "\n",
    "with open(\"../datas/image_data/wassup_face/label_data/train_label/train_sadness.json\", encoding=\"cp949\") as f:\n",
    "    data4 = json.load(f)"
   ]
  },
  {
   "cell_type": "code",
   "execution_count": 59,
   "metadata": {},
   "outputs": [
    {
     "name": "stdout",
     "output_type": "stream",
     "text": [
      "화남 파일 개수:  175 ,json 딕셔너리 갯수 1500\n",
      "행복 파일 개수: 1493 ,json 딕셔너리 갯수 1494\n",
      "패닉 파일 개수:  210 ,json 딕셔너리 갯수 1500\n",
      "슬픔 파일 개수:  925 ,json 딕셔너리 갯수 1500\n"
     ]
    }
   ],
   "source": [
    "import os\n",
    "\n",
    "def count_files_in_directory(directory_path):\n",
    "    try:\n",
    "        # 디렉토리 안의 파일과 폴더 목록을 가져옵니다.\n",
    "        entries = os.listdir(directory_path)\n",
    "        # 파일만 카운트합니다.\n",
    "        file_count = sum(1 for entry in entries if os.path.isfile(os.path.join(directory_path, entry)))\n",
    "        return file_count\n",
    "    except FileNotFoundError:\n",
    "        print(\"지정한 경로가 존재하지 않습니다.\")\n",
    "        return None\n",
    "\n",
    "# 사용 예시\n",
    "directory_path = '../datas/image_data/wassup_face/Image_data/train/1. anger/'\n",
    "print(f\"화남 파일 개수: {count_files_in_directory(directory_path):4d} ,json 딕셔너리 갯수 {len(data1):4d}\")\n",
    "\n",
    "# 사용 예시\n",
    "directory_path = '../datas/image_data/wassup_face/Image_data/train/2. happy/'\n",
    "print(f\"행복 파일 개수: {count_files_in_directory(directory_path):4d} ,json 딕셔너리 갯수 {len(data2):4d}\")\n",
    "\n",
    "# 사용 예시\n",
    "directory_path = '../datas/image_data/wassup_face/Image_data/train/3. panic/'\n",
    "print(f\"패닉 파일 개수: {count_files_in_directory(directory_path):4d} ,json 딕셔너리 갯수 {len(data3):4d}\")\n",
    "\n",
    "# 사용 예시\n",
    "directory_path = '../datas/image_data/wassup_face/Image_data/train/4. sadness/'\n",
    "print(f\"슬픔 파일 개수: {count_files_in_directory(directory_path):4d} ,json 딕셔너리 갯수 {len(data4):4d}\")\n"
   ]
  },
  {
   "cell_type": "code",
   "execution_count": 5,
   "metadata": {},
   "outputs": [
    {
     "name": "stdout",
     "output_type": "stream",
     "text": [
      "Requirement already satisfied: opencv-python in c:\\users\\crazy\\.conda\\envs\\project3\\lib\\site-packages (4.10.0.84)\n",
      "Requirement already satisfied: numpy>=1.17.0 in c:\\users\\crazy\\.conda\\envs\\project3\\lib\\site-packages (from opencv-python) (1.24.4)\n"
     ]
    }
   ],
   "source": [
    "!pip install opencv-python\n"
   ]
  },
  {
   "cell_type": "code",
   "execution_count": 62,
   "metadata": {},
   "outputs": [],
   "source": [
    "import cv2\n",
    "import numpy as np\n",
    "\n",
    "i = 25\n",
    "\n",
    "filename, (max_x, max_y, min_x, min_y) = data[i]['filename'], data[i]['annot_A']['boxes'].values()\n",
    "min_x, min_y, max_x, max_y = map(int, (min_x, min_y, max_x, max_y))\n",
    "\n",
    "\n",
    "# 이미지 불러오기\n",
    "\n",
    "image_path = '..\\\\datas\\\\image_data\\\\wassup_face\\\\Image_data\\\\train\\\\1. anger\\\\0jsg06048a28fde3caad404f93dec397e5c579e83c1c2ced67c346c93d48dju4r.jpg'\n",
    "image = cv2.imread(image_path)\n",
    "\n",
    "# 경로로 확인\n",
    "if not os.path.exists(image_path):\n",
    "    raise FileNotFoundError(f\"Image file not found at path: {image_path}\")\n",
    "\n",
    "# 바운딩 박스 그리기\n",
    "cv2.rectangle(image, (min_x, min_y), (max_x, max_y), (0, 255, 0), 2)\n",
    "\n",
    "# 결과 이미지 표시\n",
    "cv2.imshow('Image with Bounding Boxes', image)\n",
    "\n",
    "cv2.waitKey(0)\n",
    "cv2.destroyAllWindows()\n"
   ]
  }
 ],
 "metadata": {
  "kernelspec": {
   "display_name": "Python 3 (ipykernel)",
   "language": "python",
   "name": "python3"
  },
  "language_info": {
   "codemirror_mode": {
    "name": "ipython",
    "version": 3
   },
   "file_extension": ".py",
   "mimetype": "text/x-python",
   "name": "python",
   "nbconvert_exporter": "python",
   "pygments_lexer": "ipython3",
   "version": "3.8.19"
  }
 },
 "nbformat": 4,
 "nbformat_minor": 2
}
